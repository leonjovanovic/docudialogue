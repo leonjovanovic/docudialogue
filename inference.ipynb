{
 "cells": [
  {
   "cell_type": "code",
   "execution_count": 2,
   "metadata": {},
   "outputs": [],
   "source": [
    "from document_pipeline import DocumentPipeline\n",
    "\n",
    "pipeline = DocumentPipeline()"
   ]
  },
  {
   "cell_type": "code",
   "execution_count": 3,
   "metadata": {},
   "outputs": [],
   "source": [
    "pipeline.load(\"storage/test_run\")"
   ]
  },
  {
   "cell_type": "code",
   "execution_count": 8,
   "metadata": {},
   "outputs": [
    {
     "data": {
      "text/plain": [
       "{'type': 'ARCHITECTURE',\n",
       " 'name': 'DUELING NETWORK ARCHITECTURE',\n",
       " 'descriptions': ['The Dueling Network Architecture is a neural network design that separates the representation of state values and action advantages for improved reinforcement learning.',\n",
       "  'The dueling network architecture is a design for Q-networks that separates the estimation of state values and action advantages to improve learning efficiency.'],\n",
       " 'desc': 'The Dueling Network Architecture is a neural network design for Q-networks that enhances reinforcement learning by separating the estimation of state values and action advantages, thereby improving learning efficiency.'}"
      ]
     },
     "execution_count": 8,
     "metadata": {},
     "output_type": "execute_result"
    }
   ],
   "source": [
    "pipeline.graph.graph.nodes['ARCHITECTURE DUELING NETWORK ARCHITECTURE']"
   ]
  },
  {
   "cell_type": "code",
   "execution_count": null,
   "metadata": {},
   "outputs": [],
   "source": []
  }
 ],
 "metadata": {
  "kernelspec": {
   "display_name": "dialog_generation",
   "language": "python",
   "name": "python3"
  },
  "language_info": {
   "codemirror_mode": {
    "name": "ipython",
    "version": 3
   },
   "file_extension": ".py",
   "mimetype": "text/x-python",
   "name": "python",
   "nbconvert_exporter": "python",
   "pygments_lexer": "ipython3",
   "version": "3.12.4"
  }
 },
 "nbformat": 4,
 "nbformat_minor": 2
}

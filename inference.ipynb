{
 "cells": [
  {
   "cell_type": "code",
   "execution_count": 1,
   "metadata": {},
   "outputs": [],
   "source": [
    "from document_pipeline import DocumentPipeline\n",
    "import leidenalg\n",
    "import igraph as ig"
   ]
  },
  {
   "cell_type": "code",
   "execution_count": 2,
   "metadata": {},
   "outputs": [],
   "source": [
    "pipeline = DocumentPipeline()"
   ]
  },
  {
   "cell_type": "code",
   "execution_count": 3,
   "metadata": {},
   "outputs": [],
   "source": [
    "pipeline.load(\"storage/run2\")"
   ]
  },
  {
   "cell_type": "code",
   "execution_count": 4,
   "metadata": {},
   "outputs": [
    {
     "name": "stderr",
     "output_type": "stream",
     "text": [
      "Triplet handler created with 59 nodes and 61 edges.\n"
     ]
    },
    {
     "name": "stdout",
     "output_type": "stream",
     "text": [
      "{8: 0, 9: 1, 10: 2, 11: 3, 12: 4, 27: 5, 28: 6, 29: 7, 39: 8, 40: 9, 41: 10}\n",
      "{30: 0, 31: 1, 32: 2, 33: 3, 49: 4, 50: 5, 51: 6, 52: 7, 53: 8}\n",
      "{34: 0, 35: 1, 36: 2, 37: 3, 38: 4, 56: 5, 57: 6, 58: 7}\n",
      "{19: 0, 20: 1, 21: 2, 22: 3, 23: 4, 24: 5, 25: 6, 26: 7}\n",
      "{0: 0, 1: 1, 2: 2, 3: 3, 4: 4, 5: 5, 6: 6, 7: 7}\n",
      "{42: 0, 43: 1, 44: 2, 45: 3, 46: 4, 47: 5, 48: 6}\n",
      "{15: 0, 16: 1, 17: 2, 18: 3}\n",
      "{13: 0, 14: 1}\n",
      "{54: 0, 55: 1}\n",
      "CommunityGroup: 0\n",
      "=======\n",
      "Current community 3\n",
      "[[(19, 21, 7)]]\n",
      "[[19]]\n",
      "ENTERINGGGG\n",
      "[0, 1, 2, 3, 4, 5, 6, 7]\n",
      "1 [] [0]\n",
      "Node 1 Next potential: [0, 2, 5], Curr state: Mids: [], Ends: [0]\n",
      "Node 0 Next potential: [1, 2, 4, 7], Curr state: Mids: [], Ends: [0]\n",
      "Node 2 Next potential: [0, 1, 3], Curr state: Mids: [], Ends: [0]\n",
      "Node 0 Next potential: [1, 2, 4, 7], Curr state: Mids: [], Ends: [0]\n",
      "Node 3 Next potential: [2, 6], Curr state: Mids: [], Ends: [0]\n",
      "Node 6 Next potential: [3], Curr state: Mids: [], Ends: [0]\n",
      "Node 5 Next potential: [1], Curr state: Mids: [], Ends: [0]\n",
      "Izlaz: False, []\n",
      "2 [] [0]\n",
      "Node 2 Next potential: [0, 1, 3], Curr state: Mids: [], Ends: [0]\n",
      "Node 0 Next potential: [1, 2, 4, 7], Curr state: Mids: [], Ends: [0]\n",
      "Node 1 Next potential: [0, 2, 5], Curr state: Mids: [], Ends: [0]\n",
      "Node 0 Next potential: [1, 2, 4, 7], Curr state: Mids: [], Ends: [0]\n",
      "Node 5 Next potential: [1], Curr state: Mids: [], Ends: [0]\n",
      "Node 3 Next potential: [2, 6], Curr state: Mids: [], Ends: [0]\n",
      "Node 6 Next potential: [3], Curr state: Mids: [], Ends: [0]\n",
      "Izlaz: False, []\n",
      "3 [] [0]\n",
      "Node 3 Next potential: [2, 6], Curr state: Mids: [], Ends: [0]\n",
      "Node 2 Next potential: [0, 1, 3], Curr state: Mids: [], Ends: [0]\n",
      "Node 0 Next potential: [1, 2, 4, 7], Curr state: Mids: [], Ends: [0]\n",
      "Node 1 Next potential: [0, 2, 5], Curr state: Mids: [], Ends: [0]\n",
      "Node 0 Next potential: [1, 2, 4, 7], Curr state: Mids: [], Ends: [0]\n",
      "Node 5 Next potential: [1], Curr state: Mids: [], Ends: [0]\n",
      "Node 6 Next potential: [3], Curr state: Mids: [], Ends: [0]\n",
      "Izlaz: False, []\n",
      "4 [] [0]\n",
      "Node 4 Next potential: [0], Curr state: Mids: [], Ends: [0]\n",
      "Node 0 Next potential: [1, 2, 4, 7], Curr state: Mids: [], Ends: [0]\n",
      "Izlaz: False, []\n",
      "5 [] [0]\n",
      "Node 5 Next potential: [1], Curr state: Mids: [], Ends: [0]\n",
      "Node 1 Next potential: [0, 2, 5], Curr state: Mids: [], Ends: [0]\n",
      "Node 0 Next potential: [1, 2, 4, 7], Curr state: Mids: [], Ends: [0]\n",
      "Node 2 Next potential: [0, 1, 3], Curr state: Mids: [], Ends: [0]\n",
      "Node 0 Next potential: [1, 2, 4, 7], Curr state: Mids: [], Ends: [0]\n",
      "Node 3 Next potential: [2, 6], Curr state: Mids: [], Ends: [0]\n",
      "Node 6 Next potential: [3], Curr state: Mids: [], Ends: [0]\n",
      "Izlaz: False, []\n",
      "6 [] [0]\n",
      "Node 6 Next potential: [3], Curr state: Mids: [], Ends: [0]\n",
      "Node 3 Next potential: [2, 6], Curr state: Mids: [], Ends: [0]\n",
      "Node 2 Next potential: [0, 1, 3], Curr state: Mids: [], Ends: [0]\n",
      "Node 0 Next potential: [1, 2, 4, 7], Curr state: Mids: [], Ends: [0]\n",
      "Node 1 Next potential: [0, 2, 5], Curr state: Mids: [], Ends: [0]\n",
      "Node 0 Next potential: [1, 2, 4, 7], Curr state: Mids: [], Ends: [0]\n",
      "Node 5 Next potential: [1], Curr state: Mids: [], Ends: [0]\n",
      "Izlaz: False, []\n",
      "7 [] [0]\n",
      "Node 7 Next potential: [0], Curr state: Mids: [], Ends: [0]\n",
      "Node 0 Next potential: [1, 2, 4, 7], Curr state: Mids: [], Ends: [0]\n",
      "Izlaz: False, []\n",
      "[1, 2, 3, 4, 5, 6, 7]\n",
      "[[19]]\n",
      "[[0]]\n",
      "False []\n",
      "EXITINGGGGG\n",
      "CommunityGroup: 1\n",
      "=======\n",
      "Current community 6\n",
      "[]\n",
      "[]\n",
      "ENTERINGGGG\n",
      "[0, 1, 2, 3]\n",
      "0 [] []\n",
      "Node 0 Next potential: [1, 3], Curr state: Mids: [], Ends: []\n",
      "Node 1 Next potential: [0, 2], Curr state: Mids: [], Ends: []\n",
      "Node 2 Next potential: [1], Curr state: Mids: [], Ends: []\n",
      "Node 3 Next potential: [0], Curr state: Mids: [], Ends: []\n",
      "Izlaz: False, []\n",
      "1 [] []\n",
      "Node 1 Next potential: [0, 2], Curr state: Mids: [], Ends: []\n",
      "Node 0 Next potential: [1, 3], Curr state: Mids: [], Ends: []\n",
      "Node 3 Next potential: [0], Curr state: Mids: [], Ends: []\n",
      "Node 2 Next potential: [1], Curr state: Mids: [], Ends: []\n",
      "Izlaz: False, []\n",
      "2 [] []\n",
      "Node 2 Next potential: [1], Curr state: Mids: [], Ends: []\n",
      "Node 1 Next potential: [0, 2], Curr state: Mids: [], Ends: []\n",
      "Node 0 Next potential: [1, 3], Curr state: Mids: [], Ends: []\n",
      "Node 3 Next potential: [0], Curr state: Mids: [], Ends: []\n",
      "Izlaz: False, []\n",
      "3 [] []\n",
      "Node 3 Next potential: [0], Curr state: Mids: [], Ends: []\n",
      "Node 0 Next potential: [1, 3], Curr state: Mids: [], Ends: []\n",
      "Node 1 Next potential: [0, 2], Curr state: Mids: [], Ends: []\n",
      "Node 2 Next potential: [1], Curr state: Mids: [], Ends: []\n",
      "Izlaz: False, []\n",
      "[0, 1, 2, 3]\n",
      "[]\n",
      "[]\n",
      "False []\n",
      "EXITINGGGGG\n",
      "CommunityGroup: 2\n",
      "=======\n",
      "Current community 7\n",
      "[]\n",
      "[]\n",
      "ENTERINGGGG\n",
      "[0, 1]\n",
      "0 [] []\n",
      "Node 0 Next potential: [1], Curr state: Mids: [], Ends: []\n",
      "Node 1 Next potential: [0], Curr state: Mids: [], Ends: []\n",
      "Izlaz: False, []\n",
      "1 [] []\n",
      "Node 1 Next potential: [0], Curr state: Mids: [], Ends: []\n",
      "Node 0 Next potential: [1], Curr state: Mids: [], Ends: []\n",
      "Izlaz: False, []\n",
      "[0, 1]\n",
      "[]\n",
      "[]\n",
      "False []\n",
      "EXITINGGGGG\n",
      "CommunityGroup: 3\n",
      "=======\n",
      "Current community 8\n",
      "[]\n",
      "[]\n",
      "ENTERINGGGG\n",
      "[0, 1]\n",
      "0 [] []\n",
      "Node 0 Next potential: [1], Curr state: Mids: [], Ends: []\n",
      "Node 1 Next potential: [0], Curr state: Mids: [], Ends: []\n",
      "Izlaz: False, []\n",
      "1 [] []\n",
      "Node 1 Next potential: [0], Curr state: Mids: [], Ends: []\n",
      "Node 0 Next potential: [1], Curr state: Mids: [], Ends: []\n",
      "Izlaz: False, []\n",
      "[0, 1]\n",
      "[]\n",
      "[]\n",
      "False []\n",
      "EXITINGGGGG\n"
     ]
    }
   ],
   "source": [
    "pipeline.run(\"storage/run2/config.json\")"
   ]
  },
  {
   "cell_type": "code",
   "execution_count": 1,
   "metadata": {},
   "outputs": [
    {
     "ename": "NameError",
     "evalue": "name 'pipeline' is not defined",
     "output_type": "error",
     "traceback": [
      "\u001b[1;31m---------------------------------------------------------------------------\u001b[0m",
      "\u001b[1;31mNameError\u001b[0m                                 Traceback (most recent call last)",
      "Cell \u001b[1;32mIn[1], line 1\u001b[0m\n\u001b[1;32m----> 1\u001b[0m \u001b[43mpipeline\u001b[49m\u001b[38;5;241m.\u001b[39mtriplet_handler\u001b[38;5;241m.\u001b[39m_communities[\u001b[38;5;241m0\u001b[39m]\u001b[38;5;241m.\u001b[39mgraph\u001b[38;5;241m.\u001b[39mneighbors(\u001b[38;5;241m12\u001b[39m, mode\u001b[38;5;241m=\u001b[39m\u001b[38;5;124m\"\u001b[39m\u001b[38;5;124mout\u001b[39m\u001b[38;5;124m\"\u001b[39m)\n",
      "\u001b[1;31mNameError\u001b[0m: name 'pipeline' is not defined"
     ]
    }
   ],
   "source": [
    "pipeline.triplet_handler._communities[0].graph.neighbors(12, mode=\"out\")"
   ]
  },
  {
   "cell_type": "code",
   "execution_count": 16,
   "metadata": {},
   "outputs": [
    {
     "name": "stdout",
     "output_type": "stream",
     "text": [
      "129\n"
     ]
    },
    {
     "ename": "InternalError",
     "evalue": "Error at src/graph/type_indexededgelist.c:913: Given vertex is not in the graph. -- Invalid vertex ID",
     "output_type": "error",
     "traceback": [
      "\u001b[1;31m---------------------------------------------------------------------------\u001b[0m",
      "\u001b[1;31mInternalError\u001b[0m                             Traceback (most recent call last)",
      "Cell \u001b[1;32mIn[16], line 65\u001b[0m\n\u001b[0;32m     62\u001b[0m target_list \u001b[38;5;241m=\u001b[39m [random\u001b[38;5;241m.\u001b[39msample(\u001b[38;5;28mlist\u001b[39m(unique_ids), \u001b[38;5;241m3\u001b[39m)]  \u001b[38;5;66;03m# Randomly select 3 nodes from IDs\u001b[39;00m\n\u001b[0;32m     64\u001b[0m \u001b[38;5;66;03m# Get all paths that visit the target nodes in the specified order\u001b[39;00m\n\u001b[1;32m---> 65\u001b[0m paths \u001b[38;5;241m=\u001b[39m \u001b[43mtraverse_graph\u001b[49m\u001b[43m(\u001b[49m\u001b[43mg\u001b[49m\u001b[43m,\u001b[49m\u001b[43m \u001b[49m\u001b[43mtarget_list\u001b[49m\u001b[43m)\u001b[49m\n\u001b[0;32m     66\u001b[0m \u001b[38;5;28mprint\u001b[39m(\u001b[38;5;124m\"\u001b[39m\u001b[38;5;124mPaths that traverse the graph in the specified order:\u001b[39m\u001b[38;5;124m\"\u001b[39m)\n\u001b[0;32m     67\u001b[0m \u001b[38;5;28;01mfor\u001b[39;00m path \u001b[38;5;129;01min\u001b[39;00m paths:\n",
      "Cell \u001b[1;32mIn[16], line 36\u001b[0m, in \u001b[0;36mtraverse_graph\u001b[1;34m(graph, target_list)\u001b[0m\n\u001b[0;32m     34\u001b[0m \u001b[38;5;66;03m# Start DFS from each node, as the starting node may vary\u001b[39;00m\n\u001b[0;32m     35\u001b[0m \u001b[38;5;28;01mfor\u001b[39;00m vertex \u001b[38;5;129;01min\u001b[39;00m graph\u001b[38;5;241m.\u001b[39mvs:\n\u001b[1;32m---> 36\u001b[0m     \u001b[43mdfs\u001b[49m\u001b[43m(\u001b[49m\u001b[43mgraph\u001b[49m\u001b[43m,\u001b[49m\u001b[43m \u001b[49m\u001b[43mvertex\u001b[49m\u001b[43m[\u001b[49m\u001b[38;5;124;43m\"\u001b[39;49m\u001b[38;5;124;43mid\u001b[39;49m\u001b[38;5;124;43m\"\u001b[39;49m\u001b[43m]\u001b[49m\u001b[43m,\u001b[49m\u001b[43m \u001b[49m\u001b[43mtarget_list\u001b[49m\u001b[43m,\u001b[49m\u001b[43m \u001b[49m\u001b[38;5;241;43m0\u001b[39;49m\u001b[43m,\u001b[49m\u001b[43m \u001b[49m\u001b[43mvisited\u001b[49m\u001b[43m,\u001b[49m\u001b[43m \u001b[49m\u001b[43m[\u001b[49m\u001b[43m]\u001b[49m\u001b[43m,\u001b[49m\u001b[43m \u001b[49m\u001b[43mresult\u001b[49m\u001b[43m)\u001b[49m\n\u001b[0;32m     38\u001b[0m \u001b[38;5;66;03m# Return all paths that satisfy the required order\u001b[39;00m\n\u001b[0;32m     39\u001b[0m \u001b[38;5;28;01mreturn\u001b[39;00m result\n",
      "Cell \u001b[1;32mIn[16], line 20\u001b[0m, in \u001b[0;36mdfs\u001b[1;34m(graph, current, target_list, target_id, visited, path, result)\u001b[0m\n\u001b[0;32m     18\u001b[0m \u001b[38;5;66;03m# Explore neighbors\u001b[39;00m\n\u001b[0;32m     19\u001b[0m \u001b[38;5;28mprint\u001b[39m(current)\n\u001b[1;32m---> 20\u001b[0m \u001b[38;5;28;01mfor\u001b[39;00m neighbor \u001b[38;5;129;01min\u001b[39;00m \u001b[43mgraph\u001b[49m\u001b[38;5;241;43m.\u001b[39;49m\u001b[43mneighbors\u001b[49m\u001b[43m(\u001b[49m\u001b[43mcurrent\u001b[49m\u001b[43m,\u001b[49m\u001b[43m \u001b[49m\u001b[43mmode\u001b[49m\u001b[38;5;241;43m=\u001b[39;49m\u001b[38;5;124;43m\"\u001b[39;49m\u001b[38;5;124;43mout\u001b[39;49m\u001b[38;5;124;43m\"\u001b[39;49m\u001b[43m)\u001b[49m:\n\u001b[0;32m     21\u001b[0m     neighbor_id \u001b[38;5;241m=\u001b[39m graph\u001b[38;5;241m.\u001b[39mvs[neighbor][\u001b[38;5;124m\"\u001b[39m\u001b[38;5;124mid\u001b[39m\u001b[38;5;124m\"\u001b[39m]  \u001b[38;5;66;03m# Get the actual ID of the neighbor\u001b[39;00m\n\u001b[0;32m     22\u001b[0m     \u001b[38;5;28;01mif\u001b[39;00m neighbor_id \u001b[38;5;129;01mnot\u001b[39;00m \u001b[38;5;129;01min\u001b[39;00m visited:\n",
      "\u001b[1;31mInternalError\u001b[0m: Error at src/graph/type_indexededgelist.c:913: Given vertex is not in the graph. -- Invalid vertex ID"
     ]
    },
    {
     "ename": "",
     "evalue": "",
     "output_type": "error",
     "traceback": [
      "\u001b[1;31mThe Kernel crashed while executing code in the current cell or a previous cell. \n",
      "\u001b[1;31mPlease review the code in the cell(s) to identify a possible cause of the failure. \n",
      "\u001b[1;31mClick <a href='https://aka.ms/vscodeJupyterKernelCrash'>here</a> for more info. \n",
      "\u001b[1;31mView Jupyter <a href='command:jupyter.viewOutput'>log</a> for further details."
     ]
    }
   ],
   "source": [
    "from igraph import Graph\n",
    "import random\n",
    "\n",
    "def dfs(graph: Graph, current: int, target_list: list[int], target: int, visited: set, path: list[int]):\n",
    "    # Mark the current node as visited and add it to the path\n",
    "    visited.add(current)\n",
    "    path.append(current)\n",
    "    \n",
    "    # Check if the current node matches the next required node in the target list\n",
    "    if target in target_list and current == target:\n",
    "        target_list.pop(0)\n",
    "        target = target_list[0] if len(target_list) > 0 else -1  # Move to the next target node\n",
    "    \n",
    "    # Explore neighbors\n",
    "    print(current)\n",
    "    for neighbor in graph.neighbors(current, mode=\"out\"):\n",
    "        neighbor_id = graph.vs[neighbor][\"id\"]  # Get the actual ID of the neighbor\n",
    "        if neighbor_id not in visited:\n",
    "            dfs(graph, neighbor_id, target_list, target, visited, path)\n",
    "    \n",
    "    # Backtrack\n",
    "    visited.remove(current)\n",
    "\n",
    "def traverse_graph(graph, target_list):\n",
    "    # Initialize results and visited set\n",
    "    visited = set()\n",
    "    path = []\n",
    "    # Start DFS from each node, as the starting node may vary\n",
    "    for vertex in graph.vs:\n",
    "        dfs(graph, vertex[\"id\"], target_list, target_list[0], visited, path)\n",
    "    \n",
    "    # Return all paths that satisfy the required order\n",
    "    return path\n",
    "\n",
    "# Example Usage:\n",
    "# Create a graph with random node IDs\n",
    "num_nodes = 10\n",
    "edges = [(random.randint(100, 200), random.randint(100, 200)) for _ in range(15)]\n",
    "unique_ids = set()\n",
    "for edge in edges:\n",
    "    unique_ids.update(edge)\n",
    "\n",
    "# Create igraph object and add vertices and edges\n",
    "g = Graph()\n",
    "g.add_vertices(len(unique_ids))\n",
    "g.vs[\"id\"] = list(unique_ids)\n",
    "\n",
    "# Mapping IDs to vertex indices\n",
    "id_to_index = {g.vs[i][\"id\"]: i for i in range(len(g.vs))}\n",
    "\n",
    "# Add edges using mapped indices\n",
    "edges_indices = [(id_to_index[edge[0]], id_to_index[edge[1]]) for edge in edges]\n",
    "g.add_edges(edges_indices)\n",
    "\n",
    "# Target list specifies the order of nodes that must be visited\n",
    "target_list = [random.sample(list(unique_ids), 3)]  # Randomly select 3 nodes from IDs\n",
    "\n",
    "# Get all paths that visit the target nodes in the specified order\n",
    "paths = traverse_graph(g, target_list)\n",
    "print(\"Paths that traverse the graph in the specified order:\")\n",
    "for path in paths:\n",
    "    print(path)\n"
   ]
  },
  {
   "cell_type": "code",
   "execution_count": 1,
   "metadata": {},
   "outputs": [],
   "source": [
    "a = [1,2,3,4]"
   ]
  },
  {
   "cell_type": "code",
   "execution_count": 2,
   "metadata": {},
   "outputs": [],
   "source": [
    "a.remove(2)"
   ]
  },
  {
   "cell_type": "code",
   "execution_count": 3,
   "metadata": {},
   "outputs": [
    {
     "data": {
      "text/plain": [
       "[1, 3, 4]"
      ]
     },
     "execution_count": 3,
     "metadata": {},
     "output_type": "execute_result"
    }
   ],
   "source": [
    "a"
   ]
  },
  {
   "cell_type": "code",
   "execution_count": 27,
   "metadata": {},
   "outputs": [],
   "source": [
    "a = [[]]"
   ]
  },
  {
   "cell_type": "code",
   "execution_count": 30,
   "metadata": {},
   "outputs": [
    {
     "name": "stdout",
     "output_type": "stream",
     "text": [
      "[0, 1, 2, 3]\n"
     ]
    }
   ],
   "source": [
    "from igraph import Graph\n",
    "\n",
    "# Create an example graph\n",
    "g = Graph(n=4, edges=[(0, 1), (0, 2), (1, 2), (2, 3)])\n",
    "\n",
    "# Get a list of all vertex IDs\n",
    "vertex_ids = g.vs.indices\n",
    "\n",
    "print(vertex_ids)  # Output: [0, 1, 2, 3]\n"
   ]
  },
  {
   "cell_type": "code",
   "execution_count": null,
   "metadata": {},
   "outputs": [],
   "source": []
  }
 ],
 "metadata": {
  "kernelspec": {
   "display_name": "generate-dialog",
   "language": "python",
   "name": "python3"
  },
  "language_info": {
   "codemirror_mode": {
    "name": "ipython",
    "version": 3
   },
   "file_extension": ".py",
   "mimetype": "text/x-python",
   "name": "python",
   "nbconvert_exporter": "python",
   "pygments_lexer": "ipython3",
   "version": "3.12.4"
  }
 },
 "nbformat": 4,
 "nbformat_minor": 2
}

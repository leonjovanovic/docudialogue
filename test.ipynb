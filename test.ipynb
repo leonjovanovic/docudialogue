{
 "cells": [
  {
   "cell_type": "code",
   "execution_count": 1,
   "metadata": {},
   "outputs": [],
   "source": [
    "text = \"\"\"\n",
    "OpenAI CEO Sam Altman has addressed rumors regarding GPT-4 — the company’s as yet unreleased language model and latest in the GPT-series that forms the foundation of AI chatbot ChatGPT — saying that “people are begging to be disappointed and they will be.”\n",
    "\n",
    "During an interview with StrictlyVC, Altman was asked if GPT-4 will come out in the first quarter or half of the year, as many expect. He responded by offering no certain timeframe. “It’ll come out at some point, when we are confident we can do it safely and responsibly,” he said.\n",
    "\n",
    "GPT-3 came out in 2020, and an improved version, GPT 3.5, was used to create ChatGPT. The launch of GPT-4 is much anticipated, with more excitable members of the AI community and Silicon Valley world already declaring it to be a huge leap forward. Making wild predictions about the capabilities of GPT-4 has become something of a meme in these circles, particularly when it comes to guessing the model’s number of parameters (a metric that corresponds to an AI system’s complexity and, roughly, its capability — but not in a linear fashion).\n",
    "\"\"\""
   ]
  },
  {
   "cell_type": "code",
   "execution_count": 2,
   "metadata": {},
   "outputs": [],
   "source": [
    "from triplet_extraction.entity_extractor import LLMEntityExtractor\n",
    "\n",
    "\n",
    "entity_extractor = LLMEntityExtractor()"
   ]
  },
  {
   "cell_type": "code",
   "execution_count": 3,
   "metadata": {},
   "outputs": [],
   "source": [
    "ret = entity_extractor.extract(text)"
   ]
  },
  {
   "cell_type": "code",
   "execution_count": 5,
   "metadata": {},
   "outputs": [
    {
     "data": {
      "text/plain": [
       "'SAM ALTMAN'"
      ]
     },
     "execution_count": 5,
     "metadata": {},
     "output_type": "execute_result"
    }
   ],
   "source": [
    "ret[0].name"
   ]
  },
  {
   "cell_type": "code",
   "execution_count": null,
   "metadata": {},
   "outputs": [],
   "source": []
  }
 ],
 "metadata": {
  "kernelspec": {
   "display_name": "dialog_generation",
   "language": "python",
   "name": "python3"
  },
  "language_info": {
   "codemirror_mode": {
    "name": "ipython",
    "version": 3
   },
   "file_extension": ".py",
   "mimetype": "text/x-python",
   "name": "python",
   "nbconvert_exporter": "python",
   "pygments_lexer": "ipython3",
   "version": "3.12.4"
  }
 },
 "nbformat": 4,
 "nbformat_minor": 2
}
